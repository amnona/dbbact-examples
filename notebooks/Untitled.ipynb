{
 "cells": [
  {
   "cell_type": "markdown",
   "metadata": {},
   "source": [
    "# Accessing the dbBact REST-API using pytnon requests module\n",
    "## The dbBact server api is accessible at api.dbbact.org\n",
    "Documentation for all dbbact api functions is available at http://api.dbbact.org/docs\n",
    "\n",
    "For dbbact-server full documentation see https://github.com/amnona/dbbact-examples"
   ]
  },
  {
   "cell_type": "code",
   "execution_count": 3,
   "metadata": {},
   "outputs": [],
   "source": [
    "import requests"
   ]
  },
  {
   "cell_type": "code",
   "execution_count": 11,
   "metadata": {},
   "outputs": [],
   "source": [
    "dbbact_api = 'http://api.dbbact.org'"
   ]
  },
  {
   "cell_type": "markdown",
   "metadata": {},
   "source": [
    "# Get interface versions for supported clients\n",
    "## Currently, it contains the minimal and current version of the dbbact calour interface\n",
    "https://github.com/biocore/calour"
   ]
  },
  {
   "cell_type": "code",
   "execution_count": 29,
   "metadata": {},
   "outputs": [],
   "source": [
    "res = requests.get(dbbact_api + '/stats/get_supported_version')"
   ]
  },
  {
   "cell_type": "code",
   "execution_count": 30,
   "metadata": {},
   "outputs": [
    {
     "data": {
      "text/plain": [
       "{'dbbact_calour': {'min_version': 2020.0212, 'current_version': 2020.0212}}"
      ]
     },
     "execution_count": 30,
     "metadata": {},
     "output_type": "execute_result"
    }
   ],
   "source": [
    "res.json()"
   ]
  },
  {
   "cell_type": "markdown",
   "metadata": {},
   "source": [
    "# Get statistics about the dbBact content"
   ]
  },
  {
   "cell_type": "code",
   "execution_count": 31,
   "metadata": {},
   "outputs": [],
   "source": [
    "res = requests.get(dbbact_api + '/stats/stats')"
   ]
  },
  {
   "cell_type": "code",
   "execution_count": 32,
   "metadata": {},
   "outputs": [
    {
     "data": {
      "text/plain": [
       "{'stats': {'NumSequences': 255568.0,\n",
       "  'NumAnnotations': 5104.0,\n",
       "  'NumSeqAnnotations': 873365.0,\n",
       "  'NumOntologyTerms': 1633380.0,\n",
       "  'NumExperiments': 687,\n",
       "  'Database': 'dbbact'}}"
      ]
     },
     "execution_count": 32,
     "metadata": {},
     "output_type": "execute_result"
    }
   ],
   "source": [
    "res.json()"
   ]
  },
  {
   "cell_type": "markdown",
   "metadata": {},
   "source": [
    "# Get all annotations for a given sequence"
   ]
  },
  {
   "cell_type": "code",
   "execution_count": 33,
   "metadata": {},
   "outputs": [],
   "source": [
    "seq = 'TACGTAGGTGGCAAGCGTTGTCCGGATTTATTGGGCGTAAAGCGAGCGCAGGCGGAAAAATAAGTCTAATGTGAAAGCCCTCGGCTTAACCGAGGAACTGCATCGGAAACTGTTTTTCTTGAGTGCAGAAGAGGAGAGTGGAACTCCATG'"
   ]
  },
  {
   "cell_type": "code",
   "execution_count": 35,
   "metadata": {},
   "outputs": [],
   "source": [
    "res = requests.get(dbbact_api + '/sequences/get_annotations', json={'sequence': seq}).json()"
   ]
  },
  {
   "cell_type": "markdown",
   "metadata": {},
   "source": [
    "### How many annotations do we have"
   ]
  },
  {
   "cell_type": "code",
   "execution_count": 38,
   "metadata": {},
   "outputs": [
    {
     "data": {
      "text/plain": [
       "70"
      ]
     },
     "execution_count": 38,
     "metadata": {},
     "output_type": "execute_result"
    }
   ],
   "source": [
    "len(res['annotations'])"
   ]
  },
  {
   "cell_type": "markdown",
   "metadata": {},
   "source": [
    "### The first annotation"
   ]
  },
  {
   "cell_type": "code",
   "execution_count": 39,
   "metadata": {},
   "outputs": [
    {
     "data": {
      "text/plain": [
       "{'id': 5498,\n",
       " 'description': '',\n",
       " 'private': 'n',\n",
       " 'method': 'na',\n",
       " 'agent': 'calour',\n",
       " 'annotationtype': 'diffexp',\n",
       " 'primer': 'v4',\n",
       " 'expid': 688,\n",
       " 'userid': 1,\n",
       " 'username': 'amnon',\n",
       " 'date': '2028-03-09',\n",
       " 'annotationid': 5498,\n",
       " 'num_sequences': 239,\n",
       " 'primerid': 1,\n",
       " 'details': [['low', 'male organism'],\n",
       "  ['low', 'male'],\n",
       "  ['high', 'female'],\n",
       "  ['high', 'female organism'],\n",
       "  ['all', 'nanchang city prefecture'],\n",
       "  ['all', 'feces'],\n",
       "  ['all', 'age 140 days'],\n",
       "  ['all', 'research facility'],\n",
       "  ['all', 'duroc pig'],\n",
       "  ['all', 'china'],\n",
       "  ['all', 'pig'],\n",
       "  ['all', 'sus scrofa']],\n",
       " 'flags': []}"
      ]
     },
     "execution_count": 39,
     "metadata": {},
     "output_type": "execute_result"
    }
   ],
   "source": [
    "res['annotations'][0]"
   ]
  },
  {
   "cell_type": "markdown",
   "metadata": {},
   "source": [
    "### We also have taxnomy :)\n",
    "based on RDP run on all dbBact sequences"
   ]
  },
  {
   "cell_type": "code",
   "execution_count": 42,
   "metadata": {},
   "outputs": [
    {
     "data": {
      "text/plain": [
       "'d__Bacteria;p__Firmicutes;c__Bacilli;o__Lactobacillales;f__Lactobacillaceae;g__Lactobacillus'"
      ]
     },
     "execution_count": 42,
     "metadata": {},
     "output_type": "execute_result"
    }
   ],
   "source": [
    "res['taxonomy']"
   ]
  },
  {
   "cell_type": "code",
   "execution_count": null,
   "metadata": {},
   "outputs": [],
   "source": []
  }
 ],
 "metadata": {
  "kernelspec": {
   "display_name": "Python 3",
   "language": "python",
   "name": "python3"
  },
  "language_info": {
   "codemirror_mode": {
    "name": "ipython",
    "version": 3
   },
   "file_extension": ".py",
   "mimetype": "text/x-python",
   "name": "python",
   "nbconvert_exporter": "python",
   "pygments_lexer": "ipython3",
   "version": "3.7.7"
  }
 },
 "nbformat": 4,
 "nbformat_minor": 4
}
